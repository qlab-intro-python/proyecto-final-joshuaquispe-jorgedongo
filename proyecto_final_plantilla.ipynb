{
 "cells": [
  {
   "cell_type": "markdown",
   "metadata": {},
   "source": [
    "# **Proyecto final**"
   ]
  },
  {
   "cell_type": "markdown",
   "metadata": {},
   "source": [
    "Curso:          Fundamentos de Programación en Python para Macroeconomía y Finanzas     \n",
    "Profesor:       Victor Fuentes Campos     "
   ]
  },
  {
   "cell_type": "markdown",
   "metadata": {},
   "source": [
    "- Fecha y hora de entrega: Jueves 18 de enero, 9:59pm. **NO HABRÁN PRÓRROGAS**\n",
    "- Grupos de dos personas por elección libre\n",
    "- Envíe su tarea haciendo el `push` de su código a su repo en GitHub Classroom"
   ]
  },
  {
   "cell_type": "markdown",
   "metadata": {},
   "source": [
    "El propósito de este proyecto es que tengan un código de su autoría publicado en GitHub"
   ]
  },
  {
   "cell_type": "markdown",
   "metadata": {},
   "source": [
    "## Página web"
   ]
  },
  {
   "cell_type": "markdown",
   "metadata": {},
   "source": [
    "> Según lo discutido en la última clase, **deberán crear su propia página web usando GitHub Pages**. En ella, deberán mostrar el notebook de su proyecto final\n",
    "\n",
    "Recursos adicionales:\n",
    "\n",
    "1. Videos tutoriales\n",
    "    - https://www.youtube.com/watch?v=zyGfECfJ9BY\n",
    "    - https://www.youtube.com/watch?v=K5xImVmm2Ds\n",
    "\n",
    "\n",
    "2. Plantillas\n",
    "    - https://bootstrapmade.com/bootstrap-portfolio-templates/\n",
    "    - https://cssauthor.com/free-bootstrap-portfolio-templates/"
   ]
  },
  {
   "cell_type": "markdown",
   "metadata": {},
   "source": [
    "Incluya aquí el link de sus páginas web\n",
    "- Integrante 1: ________________\n",
    "- Integrante 2: ________________"
   ]
  },
  {
   "cell_type": "markdown",
   "metadata": {},
   "source": [
    "## Aplicación"
   ]
  },
  {
   "cell_type": "markdown",
   "metadata": {},
   "source": [
    "Pautas generales\n",
    "\n",
    "- Insumos: deberán trabajar al menos dos (2) bases de datos diferentes que requieran alguna transformación (`data wrangling`). Una de ellas tiene que ser un archivo de texto (`.txt`, `.pdf`, `.docx`, etc)\n",
    "- Tareas: (i) explicar la relevancia del análisis a desarrollar; (ii) utilizar al menos una vez listas, loops y functions para transformar la base de datos cruda y obtener información relevanete; y (iii) aplicar algoritmos de NLP para transformar texto en datos valiosos\n",
    "- Deberán proveer obligatoriamente gráficos (2 o más) y tablas/cuadros (2 o más) de su libre elección y conclusiones relevantes"
   ]
  },
  {
   "cell_type": "markdown",
   "metadata": {},
   "source": [
    "Posibles datos para el ejercicio de `data wrangling`\n",
    "\n",
    "- Estadísticas de 100 años del BCRP. Más [aquí](https://www.bcrp.gob.pe/en/estadisticas/estadisticas-de-100-anos-del-bcrp.html)\n",
    "- 1,000 años de datos macroeconómicos en Reino Unido. Más [aquí](https://www.kaggle.com/datasets/bank-of-england/a-millennium-of-macroeconomic-data)\n",
    "- Historial crediticio - Datathon Interbank 2020. Más [aquí](https://www.kaggle.com/competitions/interbank20/data?select=censo_test.csv)\n",
    "- Ataques terroristas en el mundo. Más [aquí](https://www.kaggle.com/code/gpreda/global-terrorist-attacks/input)\n",
    "- [World Hapiness Report 2023](https://worldhappiness.report/), compilado por Carla Solís. Más [aquí](https://raw.githubusercontent.com/ccsuehara/python_para_las_ccss/main/Clase%205/data/world-happiness-report-2023.csv)\n",
    "- Otros datos del BCRP, MEF, SBS, SMV, BVL, INEI, etc.\n",
    "- Cualquier otra base de datos que consideren relevante. En este caso, también deberán proveer la base de datos original en el repo. De ser muy grande, deberá ofrecer un link a la plataforma de almacenamiento en la nuba de su elección (Dropbox, Drive, OneDrive, etc) que permita el acceso a dichos datos\n"
   ]
  },
  {
   "cell_type": "markdown",
   "metadata": {},
   "source": [
    "Posibles datos para el ejercicio de NLP\n",
    "\n",
    "- Federal Open Market Committee (FOMC) meetings statements. Más [aquí](https://www.federalreserve.gov/monetarypolicy/fomccalendars.htm). El repo incluye tres archivos `.docx`\n",
    "- Programa Monetario del Banco Central de Reserva del Perú (BCRP). Más [aquí](https://www.bcrp.gob.pe/transparencia/actividades-oficiales/notas-informativas.html). El repo incluye tres archivos `.pdf`\n",
    "- Mensajes presidenciales de Carla Solís y Luis Eduardo San Martín. [Acá](https://github.com/ccsuehara/Peruvian-presidents-speeches/tree/master/data/presidentialSpeechPeru/txt) los archivos\n",
    "- \"Fake vs real news\" de George McIntire. Más info [aquí](https://opendatascience.com/how-to-build-a-fake-news-classification-model/). La base de datos está alojada en su [repo](https://github.com/GeorgeMcIntire/fake_real_news_dataset?tab=readme-ov-file)\n",
    "- Coronavirus tweets de Kaggle. Más info [aquí](https://www.kaggle.com/datasets/datatattle/covid-19-nlp-text-classification)\n",
    "- Twitter Financial News de Kaggle. Más infor [aquí](https://www.kaggle.com/datasets/sulphatet/twitter-financial-news)\n",
    "- Cualquier otra base de datos que consideren relevante. En este caso, también deberán proveer la base de datos original en el repo. De ser muy grande, deberá ofrecer un link a la plataforma de almacenamiento en la nuba de su elección (Dropbox, Drive, OneDrive, etc) que permita el acceso a dichos datos"
   ]
  },
  {
   "cell_type": "code",
   "execution_count": 1,
   "metadata": {},
   "outputs": [],
   "source": [
    "import os"
   ]
  },
  {
   "cell_type": "code",
   "execution_count": 16,
   "metadata": {},
   "outputs": [
    {
     "name": "stdout",
     "output_type": "stream",
     "text": [
      "Se ha procesado el archivo:  1Fujimori28_07_1990.txt\n",
      "Se ha asignado la llave:  1Fujimori28_07_1990\n",
      "Se ha procesado el archivo:  1Fujimori28_07_1991.txt\n",
      "Se ha asignado la llave:  1Fujimori28_07_1991\n",
      "Se ha procesado el archivo:  1Fujimori28_07_1992.txt\n",
      "Se ha asignado la llave:  1Fujimori28_07_1992\n",
      "Se ha procesado el archivo:  1Fujimori28_07_1993.txt\n",
      "Se ha asignado la llave:  1Fujimori28_07_1993\n",
      "Se ha procesado el archivo:  1Fujimori28_07_1994.txt\n",
      "Se ha asignado la llave:  1Fujimori28_07_1994\n",
      "Se ha procesado el archivo:  1Fujimori28_07_1995.txt\n",
      "Se ha asignado la llave:  1Fujimori28_07_1995\n",
      "Se ha procesado el archivo:  1Garcia28_07_1985.txt\n",
      "Se ha asignado la llave:  1Garcia28_07_1985\n",
      "Se ha procesado el archivo:  1Garcia28_07_1986.txt\n",
      "Se ha asignado la llave:  1Garcia28_07_1986\n",
      "Se ha procesado el archivo:  1Garcia28_07_1987.txt\n",
      "Se ha asignado la llave:  1Garcia28_07_1987\n",
      "Se ha procesado el archivo:  1Garcia28_07_1988.txt\n",
      "Se ha asignado la llave:  1Garcia28_07_1988\n",
      "Se ha procesado el archivo:  1Garcia28_07_1989.txt\n",
      "Se ha asignado la llave:  1Garcia28_07_1989\n",
      "Se ha procesado el archivo:  2Fujimori28_07_1995.txt\n",
      "Se ha asignado la llave:  2Fujimori28_07_1995\n",
      "Se ha procesado el archivo:  2Fujimori28_07_1996.txt\n",
      "Se ha asignado la llave:  2Fujimori28_07_1996\n",
      "Se ha procesado el archivo:  2Fujimori28_07_1997.txt\n",
      "Se ha asignado la llave:  2Fujimori28_07_1997\n",
      "Se ha procesado el archivo:  2Fujimori28_07_1998.txt\n",
      "Se ha asignado la llave:  2Fujimori28_07_1998\n",
      "Se ha procesado el archivo:  2Fujimori28_07_1999.txt\n",
      "Se ha asignado la llave:  2Fujimori28_07_1999\n",
      "Se ha procesado el archivo:  2Fujimori28_07_2000.txt\n",
      "Se ha asignado la llave:  2Fujimori28_07_2000\n",
      "Se ha procesado el archivo:  2Garcia28_07_2006.txt\n",
      "Se ha asignado la llave:  2Garcia28_07_2006\n",
      "Se ha procesado el archivo:  2Garcia28_07_2007.txt\n",
      "Se ha asignado la llave:  2Garcia28_07_2007\n",
      "Se ha procesado el archivo:  2Garcia28_07_2008.txt\n",
      "Se ha asignado la llave:  2Garcia28_07_2008\n",
      "Se ha procesado el archivo:  2Garcia28_07_2009.txt\n",
      "Se ha asignado la llave:  2Garcia28_07_2009\n",
      "Se ha procesado el archivo:  2Garcia28_07_2010.txt\n",
      "Se ha asignado la llave:  2Garcia28_07_2010\n",
      "Se ha procesado el archivo:  Belaunde28_07_1980.txt\n",
      "Se ha asignado la llave:  Belaunde28_07_1980\n",
      "Se ha procesado el archivo:  Belaunde28_07_1981.txt\n",
      "Se ha asignado la llave:  Belaunde28_07_1981\n",
      "Se ha procesado el archivo:  Belaunde28_07_1982.txt\n",
      "Se ha asignado la llave:  Belaunde28_07_1982\n",
      "Se ha procesado el archivo:  Belaunde28_07_1983.txt\n",
      "Se ha asignado la llave:  Belaunde28_07_1983\n",
      "Se ha procesado el archivo:  Belaunde28_07_1984.txt\n",
      "Se ha asignado la llave:  Belaunde28_07_1984\n",
      "Se ha procesado el archivo:  Belaunde28_07_1985.txt\n",
      "Se ha asignado la llave:  Belaunde28_07_1985\n",
      "Se ha procesado el archivo:  Bermudez28_07_1976.txt\n",
      "Se ha asignado la llave:  Bermudez28_07_1976\n",
      "Se ha procesado el archivo:  Bermudez28_07_1977.txt\n",
      "Se ha asignado la llave:  Bermudez28_07_1977\n",
      "Se ha procesado el archivo:  Bermudez28_07_1978.txt\n",
      "Se ha asignado la llave:  Bermudez28_07_1978\n",
      "Se ha procesado el archivo:  Bermudez28_07_1979.txt\n",
      "Se ha asignado la llave:  Bermudez28_07_1979\n",
      "Se ha procesado el archivo:  Bermudez28_07_1980.txt\n",
      "Se ha asignado la llave:  Bermudez28_07_1980\n",
      "Se ha procesado el archivo:  Castillo28_07_2021.txt\n",
      "Se ha asignado la llave:  Castillo28_07_2021\n",
      "Se ha procesado el archivo:  Castillo28_07_2022.txt\n",
      "Se ha asignado la llave:  Castillo28_07_2022\n",
      "Se ha procesado el archivo:  Humala28_07_2011.txt\n",
      "Se ha asignado la llave:  Humala28_07_2011\n",
      "Se ha procesado el archivo:  Humala28_07_2012.txt\n",
      "Se ha asignado la llave:  Humala28_07_2012\n",
      "Se ha procesado el archivo:  Humala28_07_2013.txt\n",
      "Se ha asignado la llave:  Humala28_07_2013\n",
      "Se ha procesado el archivo:  Humala28_07_2014.txt\n",
      "Se ha asignado la llave:  Humala28_07_2014\n",
      "Se ha procesado el archivo:  Humala28_07_2015.txt\n",
      "Se ha asignado la llave:  Humala28_07_2015\n",
      "Se ha procesado el archivo:  PPK28_07_2016.txt\n",
      "Se ha asignado la llave:  PPK28_07_2016\n",
      "Se ha procesado el archivo:  PPK28_07_2017.txt\n",
      "Se ha asignado la llave:  PPK28_07_2017\n",
      "Se ha procesado el archivo:  Toledo28_07_2001.txt\n",
      "Se ha asignado la llave:  Toledo28_07_2001\n",
      "Se ha procesado el archivo:  Toledo28_07_2002.txt\n",
      "Se ha asignado la llave:  Toledo28_07_2002\n",
      "Se ha procesado el archivo:  Toledo28_07_2003.txt\n",
      "Se ha asignado la llave:  Toledo28_07_2003\n",
      "Se ha procesado el archivo:  Toledo28_07_2004.txt\n",
      "Se ha asignado la llave:  Toledo28_07_2004\n",
      "Se ha procesado el archivo:  Toledo28_07_2005.txt\n",
      "Se ha asignado la llave:  Toledo28_07_2005\n",
      "Se ha procesado el archivo:  Velasco28_07_1969.txt\n",
      "Se ha asignado la llave:  Velasco28_07_1969\n",
      "Se ha procesado el archivo:  Velasco28_07_1970.txt\n",
      "Se ha asignado la llave:  Velasco28_07_1970\n",
      "Se ha procesado el archivo:  Velasco28_07_1971.txt\n",
      "Se ha asignado la llave:  Velasco28_07_1971\n",
      "Se ha procesado el archivo:  Velasco28_07_1972.txt\n",
      "Se ha asignado la llave:  Velasco28_07_1972\n",
      "Se ha procesado el archivo:  Velasco28_07_1973.txt\n",
      "Se ha asignado la llave:  Velasco28_07_1973\n",
      "Se ha procesado el archivo:  Velasco28_07_1974.txt\n",
      "Se ha asignado la llave:  Velasco28_07_1974\n",
      "Se ha procesado el archivo:  Velasco28_07_1975.txt\n",
      "Se ha asignado la llave:  Velasco28_07_1975\n",
      "Se ha procesado el archivo:  Vizcarra28_07_2018.txt\n",
      "Se ha asignado la llave:  Vizcarra28_07_2018\n",
      "Se ha procesado el archivo:  Vizcarra28_07_2019.txt\n",
      "Se ha asignado la llave:  Vizcarra28_07_2019\n",
      "56\n",
      "dict_keys(['1Fujimori28_07_1990', '1Fujimori28_07_1991', '1Fujimori28_07_1992', '1Fujimori28_07_1993', '1Fujimori28_07_1994', '1Fujimori28_07_1995', '1Garcia28_07_1985', '1Garcia28_07_1986', '1Garcia28_07_1987', '1Garcia28_07_1988', '1Garcia28_07_1989', '2Fujimori28_07_1995', '2Fujimori28_07_1996', '2Fujimori28_07_1997', '2Fujimori28_07_1998', '2Fujimori28_07_1999', '2Fujimori28_07_2000', '2Garcia28_07_2006', '2Garcia28_07_2007', '2Garcia28_07_2008', '2Garcia28_07_2009', '2Garcia28_07_2010', 'Belaunde28_07_1980', 'Belaunde28_07_1981', 'Belaunde28_07_1982', 'Belaunde28_07_1983', 'Belaunde28_07_1984', 'Belaunde28_07_1985', 'Bermudez28_07_1976', 'Bermudez28_07_1977', 'Bermudez28_07_1978', 'Bermudez28_07_1979', 'Bermudez28_07_1980', 'Castillo28_07_2021', 'Castillo28_07_2022', 'Humala28_07_2011', 'Humala28_07_2012', 'Humala28_07_2013', 'Humala28_07_2014', 'Humala28_07_2015', 'PPK28_07_2016', 'PPK28_07_2017', 'Toledo28_07_2001', 'Toledo28_07_2002', 'Toledo28_07_2003', 'Toledo28_07_2004', 'Toledo28_07_2005', 'Velasco28_07_1969', 'Velasco28_07_1970', 'Velasco28_07_1971', 'Velasco28_07_1972', 'Velasco28_07_1973', 'Velasco28_07_1974', 'Velasco28_07_1975', 'Vizcarra28_07_2018', 'Vizcarra28_07_2019'])\n"
     ]
    }
   ],
   "source": [
    "ruta_carpeta = 'discursos'\n",
    "archivos = os.listdir(ruta_carpeta) \n",
    "Discursos={} \n",
    "\n",
    "for archivo in archivos:\n",
    "  ruta_archivo = os.path.join(ruta_carpeta, archivo)\n",
    "  llavenueva = archivo\n",
    "  llavenueva = llavenueva.replace(\".txt\", \"\")\n",
    "  Discursos[llavenueva]= None \n",
    "\n",
    "  with open(ruta_archivo, mode=\"r\", encoding=\"utf8\") as f:\n",
    "    Discurso=f.read()\n",
    "  Discursos[llavenueva] = Discurso\n",
    "\n",
    "  print('Se ha procesado el archivo: ', archivo)\n",
    "  print('Se ha asignado la llave: ', llavenueva)\n",
    "\n",
    "print(len(Discursos.keys())) #\n",
    "print(Discursos.keys())\n"
   ]
  },
  {
   "cell_type": "code",
   "execution_count": null,
   "metadata": {},
   "outputs": [],
   "source": []
  }
 ],
 "metadata": {
  "hide_input": false,
  "kernelspec": {
   "display_name": "Python 3 (ipykernel)",
   "language": "python",
   "name": "python3"
  },
  "language_info": {
   "codemirror_mode": {
    "name": "ipython",
    "version": 3
   },
   "file_extension": ".py",
   "mimetype": "text/x-python",
   "name": "python",
   "nbconvert_exporter": "python",
   "pygments_lexer": "ipython3",
   "version": "3.9.13"
  },
  "toc": {
   "base_numbering": 1,
   "nav_menu": {},
   "number_sections": true,
   "sideBar": true,
   "skip_h1_title": false,
   "title_cell": "Table of Contents",
   "title_sidebar": "Contents",
   "toc_cell": false,
   "toc_position": {},
   "toc_section_display": true,
   "toc_window_display": false
  }
 },
 "nbformat": 4,
 "nbformat_minor": 4
}
